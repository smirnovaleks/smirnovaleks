{
 "cells": [
  {
   "cell_type": "code",
   "execution_count": 30,
   "id": "2d3d0480",
   "metadata": {},
   "outputs": [],
   "source": [
    "def brackets_chek(string):\n",
    "    count = 0\n",
    "    for i in string:\n",
    "        if i in ['(', '[', '{']:\n",
    "            count += 1\n",
    "        elif i in [')', ']', '}']:\n",
    "            count -= 1\n",
    "    return count == 0"
   ]
  },
  {
   "cell_type": "code",
   "execution_count": 20,
   "id": "7204b225",
   "metadata": {},
   "outputs": [
    {
     "data": {
      "text/plain": [
       "'Unbalanced'"
      ]
     },
     "execution_count": 20,
     "metadata": {},
     "output_type": "execute_result"
    }
   ],
   "source": [
    "balance(a)"
   ]
  },
  {
   "cell_type": "code",
   "execution_count": 17,
   "id": "1b71fb2d",
   "metadata": {},
   "outputs": [
    {
     "name": "stdout",
     "output_type": "stream",
     "text": [
      "Balanced\n"
     ]
    }
   ],
   "source": [
    "openList = [\"[\",\"{\",\"(\"]\n",
    "closeList = [\"]\",\"}\",\")\"]\n",
    "def balance(myStr):\n",
    "    stack= []\n",
    "    for i in myStr:\n",
    "        if i in openList:\n",
    "            stack.append(i)\n",
    "        elif i in closeList:\n",
    "            pos = closeList.index(i)\n",
    "            if ((len(stack) > 0) and (openList[pos] == stack[len(stack)-1])):\n",
    "                stack.pop()\n",
    "            else:\n",
    "                return \"Unbalanced\"\n",
    "    if len(stack) == 0:\n",
    "        return \"Balanced\"\n",
    "print (balance(\"{[()](){}}\"))"
   ]
  }
 ],
 "metadata": {
  "kernelspec": {
   "display_name": "Python 3",
   "language": "python",
   "name": "python3"
  },
  "language_info": {
   "codemirror_mode": {
    "name": "ipython",
    "version": 3
   },
   "file_extension": ".py",
   "mimetype": "text/x-python",
   "name": "python",
   "nbconvert_exporter": "python",
   "pygments_lexer": "ipython3",
   "version": "3.8.8"
  }
 },
 "nbformat": 4,
 "nbformat_minor": 5
}
