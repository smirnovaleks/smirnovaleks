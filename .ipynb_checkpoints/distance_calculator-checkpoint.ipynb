{
 "cells": [
  {
   "cell_type": "code",
   "execution_count": 1,
   "id": "dd6c9b07",
   "metadata": {},
   "outputs": [],
   "source": [
    "def haversine (long_start, lat_start, long_end, lat_end, radius=6371):\n",
    "    long_start, lat_start, long_end, lat_end = [np.radians(x) for x in (long_start, lat_start, long_end, lat_end)]\n",
    "    \n",
    "    lat_sin = np.sin((lat_end - lat_start) / 2) **2\n",
    "    lat_cos = np.cos(lat_start) * np.cos(lat_end)\n",
    "    lon_sin = np.sin((long_end - long_start) / 2) **2\n",
    "    distance = 2 * radius * np.arcsin(np.sqrt(lat_sin + lat_cos * lon_sin))\n",
    "    \n",
    "    return distance"
   ]
  },
  {
   "cell_type": "code",
   "execution_count": null,
   "id": "23ad4178",
   "metadata": {},
   "outputs": [],
   "source": []
  }
 ],
 "metadata": {
  "kernelspec": {
   "display_name": "Python 3",
   "language": "python",
   "name": "python3"
  },
  "language_info": {
   "codemirror_mode": {
    "name": "ipython",
    "version": 3
   },
   "file_extension": ".py",
   "mimetype": "text/x-python",
   "name": "python",
   "nbconvert_exporter": "python",
   "pygments_lexer": "ipython3",
   "version": "3.8.8"
  }
 },
 "nbformat": 4,
 "nbformat_minor": 5
}
