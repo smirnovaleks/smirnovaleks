{
 "cells": [
  {
   "cell_type": "code",
   "execution_count": 54,
   "id": "c687f8a8",
   "metadata": {},
   "outputs": [],
   "source": [
    "def clear_columns(df):\n",
    "    import re\n",
    "    columns = []\n",
    "    for col in df.columns:\n",
    "        col = col.strip()\n",
    "        col = col.replace(' ', '_')\n",
    "        col = col.replace('(', '')\n",
    "        col = col.replace(')', '')\n",
    "        col = re.sub(r\"([A-Z])\", lambda m: '_' + m.group(0).lower(), col)\n",
    "        columns.append(col)\n",
    "    df.columns = columns\n",
    "    return df"
   ]
  }
 ],
 "metadata": {
  "kernelspec": {
   "display_name": "Python 3",
   "language": "python",
   "name": "python3"
  },
  "language_info": {
   "codemirror_mode": {
    "name": "ipython",
    "version": 3
   },
   "file_extension": ".py",
   "mimetype": "text/x-python",
   "name": "python",
   "nbconvert_exporter": "python",
   "pygments_lexer": "ipython3",
   "version": "3.8.8"
  }
 },
 "nbformat": 4,
 "nbformat_minor": 5
}
